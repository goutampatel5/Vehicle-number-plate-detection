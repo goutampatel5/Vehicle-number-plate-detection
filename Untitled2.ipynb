{
 "cells": [
  {
   "cell_type": "code",
   "execution_count": 8,
   "id": "58ab0952-e87c-46c5-adb4-f9c9d86ad56b",
   "metadata": {},
   "outputs": [],
   "source": [
    "import cv2\n",
    "\n",
    "def load_image(image_path):\n",
    "    # Load the image using OpenCV\n",
    "    img = cv2.imread(image_path)\n",
    "    # Resize the image to the correct size (640x640 for YOLO)\n",
    "    img_resized = cv2.resize(img, (640, 640))\n",
    "    # Convert the image to a tensor and normalize\n",
    "    img_tensor = transforms.ToTensor()(img_resized).unsqueeze(0)  # Add batch dimension\n",
    "    return img_tensor\n"
   ]
  },
  {
   "cell_type": "code",
   "execution_count": 10,
   "id": "f5d59a03-b819-4353-a4f2-d092d64fc174",
   "metadata": {},
   "outputs": [],
   "source": [
    "import torch\n",
    "import torchvision.transforms as transforms\n",
    "\n",
    "def prepare_image(image_path, target_size=640):\n",
    "    img = Image.open(image_path)\n",
    "    img = img.resize((target_size, target_size))  # Resize image\n",
    "    transform = transforms.Compose([transforms.ToTensor()])\n",
    "    img_tensor = transform(img).unsqueeze(0)  # Add batch dimension\n",
    "    return img_tensor\n"
   ]
  },
  {
   "cell_type": "code",
   "execution_count": 12,
   "id": "954fba57-9042-4f12-9616-6836e2bf699e",
   "metadata": {},
   "outputs": [
    {
     "ename": "NameError",
     "evalue": "name 'pred' is not defined",
     "output_type": "error",
     "traceback": [
      "\u001b[1;31m---------------------------------------------------------------------------\u001b[0m",
      "\u001b[1;31mNameError\u001b[0m                                 Traceback (most recent call last)",
      "Cell \u001b[1;32mIn[12], line 1\u001b[0m\n\u001b[1;32m----> 1\u001b[0m \u001b[38;5;28mprint\u001b[39m(\u001b[38;5;124mf\u001b[39m\u001b[38;5;124m\"\u001b[39m\u001b[38;5;124mPredicted tensor shape: \u001b[39m\u001b[38;5;132;01m{\u001b[39;00mpred\u001b[38;5;241m.\u001b[39mshape\u001b[38;5;132;01m}\u001b[39;00m\u001b[38;5;124m\"\u001b[39m)\n\u001b[0;32m      2\u001b[0m \u001b[38;5;28mprint\u001b[39m(\u001b[38;5;124mf\u001b[39m\u001b[38;5;124m\"\u001b[39m\u001b[38;5;124mDetection tensor shapes: \u001b[39m\u001b[38;5;132;01m{\u001b[39;00m[t\u001b[38;5;241m.\u001b[39mshape\u001b[38;5;250m \u001b[39m\u001b[38;5;28;01mfor\u001b[39;00m\u001b[38;5;250m \u001b[39mt\u001b[38;5;250m \u001b[39m\u001b[38;5;129;01min\u001b[39;00m\u001b[38;5;250m \u001b[39mdetections]\u001b[38;5;132;01m}\u001b[39;00m\u001b[38;5;124m\"\u001b[39m)\n",
      "\u001b[1;31mNameError\u001b[0m: name 'pred' is not defined"
     ]
    }
   ],
   "source": [
    "print(f\"Predicted tensor shape: {pred.shape}\")\n",
    "print(f\"Detection tensor shapes: {[t.shape for t in detections]}\")\n"
   ]
  },
  {
   "cell_type": "code",
   "execution_count": 14,
   "id": "884d2b27-817f-42ea-9e01-ce698d62f552",
   "metadata": {},
   "outputs": [
    {
     "name": "stdout",
     "output_type": "stream",
     "text": [
      "True\n"
     ]
    }
   ],
   "source": [
    "import torch\n",
    "print(torch.cuda.is_available())\n"
   ]
  },
  {
   "cell_type": "code",
   "execution_count": 24,
   "id": "543becad-ea2f-4366-9348-1fc0d2e433d9",
   "metadata": {},
   "outputs": [],
   "source": [
    "def load_yolo_model(model_path):\n",
    "    device = 'cuda'  # Force to use CPU instead of CUDA\n",
    "    model = attempt_load(model_path, map_location=device)\n",
    "    model.eval()  # Set model to evaluation mode\n",
    "    return model, device\n"
   ]
  },
  {
   "cell_type": "code",
   "execution_count": 26,
   "id": "a44ad287-4f4e-4305-be37-bc12f09f35bc",
   "metadata": {},
   "outputs": [
    {
     "ename": "NameError",
     "evalue": "name 'attempt_load' is not defined",
     "output_type": "error",
     "traceback": [
      "\u001b[1;31m---------------------------------------------------------------------------\u001b[0m",
      "\u001b[1;31mNameError\u001b[0m                                 Traceback (most recent call last)",
      "Cell \u001b[1;32mIn[26], line 2\u001b[0m\n\u001b[0;32m      1\u001b[0m model_path \u001b[38;5;241m=\u001b[39m \u001b[38;5;124m\"\u001b[39m\u001b[38;5;124mD:/ml_project/yolov7/runs/train/exp/weights/best.pt\u001b[39m\u001b[38;5;124m\"\u001b[39m  \u001b[38;5;66;03m# Correct model path\u001b[39;00m\n\u001b[1;32m----> 2\u001b[0m yolo_model, device \u001b[38;5;241m=\u001b[39m load_yolo_model(model_path)\n",
      "Cell \u001b[1;32mIn[24], line 3\u001b[0m, in \u001b[0;36mload_yolo_model\u001b[1;34m(model_path)\u001b[0m\n\u001b[0;32m      1\u001b[0m \u001b[38;5;28;01mdef\u001b[39;00m \u001b[38;5;21mload_yolo_model\u001b[39m(model_path):\n\u001b[0;32m      2\u001b[0m     device \u001b[38;5;241m=\u001b[39m \u001b[38;5;124m'\u001b[39m\u001b[38;5;124mcuda\u001b[39m\u001b[38;5;124m'\u001b[39m  \u001b[38;5;66;03m# Force to use CPU instead of CUDA\u001b[39;00m\n\u001b[1;32m----> 3\u001b[0m     model \u001b[38;5;241m=\u001b[39m attempt_load(model_path, map_location\u001b[38;5;241m=\u001b[39mdevice)\n\u001b[0;32m      4\u001b[0m     model\u001b[38;5;241m.\u001b[39meval()  \u001b[38;5;66;03m# Set model to evaluation mode\u001b[39;00m\n\u001b[0;32m      5\u001b[0m     \u001b[38;5;28;01mreturn\u001b[39;00m model, device\n",
      "\u001b[1;31mNameError\u001b[0m: name 'attempt_load' is not defined"
     ]
    }
   ],
   "source": [
    "model_path = \"D:/ml_project/yolov7/runs/train/exp/weights/best.pt\"  # Correct model path\n",
    "yolo_model, device = load_yolo_model(model_path)"
   ]
  },
  {
   "cell_type": "code",
   "execution_count": 28,
   "id": "654dcabe-6e66-4760-9807-a6f62a8c9590",
   "metadata": {},
   "outputs": [],
   "source": [
    "import pytesseract\n",
    "\n",
    "pytesseract.pytesseract.tesseract_cmd = r'D:\\conda-installation\\envs\\ml_env\\tesseract-OCR'  # Update this with the correct path\n"
   ]
  },
  {
   "cell_type": "code",
   "execution_count": null,
   "id": "b1105ce3-9a8b-451c-835a-e8ffbc225038",
   "metadata": {},
   "outputs": [],
   "source": []
  }
 ],
 "metadata": {
  "kernelspec": {
   "display_name": "Python 3 (ipykernel)",
   "language": "python",
   "name": "python3"
  },
  "language_info": {
   "codemirror_mode": {
    "name": "ipython",
    "version": 3
   },
   "file_extension": ".py",
   "mimetype": "text/x-python",
   "name": "python",
   "nbconvert_exporter": "python",
   "pygments_lexer": "ipython3",
   "version": "3.12.7"
  }
 },
 "nbformat": 4,
 "nbformat_minor": 5
}
